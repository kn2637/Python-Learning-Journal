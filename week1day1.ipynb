{
 "cells": [
  {
   "cell_type": "code",
   "execution_count": 1,
   "id": "46ec6f14",
   "metadata": {},
   "outputs": [
    {
     "name": "stdout",
     "output_type": "stream",
     "text": [
      "Hello from Jupyter!\n"
     ]
    }
   ],
   "source": [
    "print(\"Hello from Jupyter!\")"
   ]
  },
  {
   "cell_type": "code",
   "execution_count": 3,
   "id": "dd090f10",
   "metadata": {},
   "outputs": [
    {
     "name": "stdout",
     "output_type": "stream",
     "text": [
      "14\n"
     ]
    }
   ],
   "source": [
    "num1 = int(input(\"Enter num1: \"))\n",
    "num2 = int(input(\"Enter num2: \"))\n",
    "\n",
    "print(num1 + num2)"
   ]
  },
  {
   "cell_type": "code",
   "execution_count": 7,
   "id": "4028af73",
   "metadata": {},
   "outputs": [
    {
     "name": "stdout",
     "output_type": "stream",
     "text": [
      "At the age of 20, Komal likes to play badminton.\n"
     ]
    }
   ],
   "source": [
    "name = input(\"Name: \")\n",
    "age = int(input(\"Age: \"))\n",
    "hobby = input(\"Your favourite hobby: \")\n",
    "\n",
    "print(f'At the age of {age}, {name} likes to {hobby}.')"
   ]
  },
  {
   "cell_type": "code",
   "execution_count": 8,
   "id": "c3d2f77d",
   "metadata": {},
   "outputs": [
    {
     "name": "stdout",
     "output_type": "stream",
     "text": [
      "3 + 5 = 8, and 3 x 5 = 15.\n"
     ]
    }
   ],
   "source": [
    "num1 = int(input(\"Enter first number: \"))\n",
    "num2 = int(input(\"Enter second number: \"))\n",
    "\n",
    "print(f'{num1} + {num2} = {num1 + num2}, and {num1} x {num2} = {num1 * num2}.')"
   ]
  },
  {
   "cell_type": "code",
   "execution_count": 9,
   "id": "79014b7f",
   "metadata": {},
   "outputs": [
    {
     "name": "stdout",
     "output_type": "stream",
     "text": [
      "Data types for the entered values are as follows: \n",
      "Type of 4 = <class 'int'>\n",
      "Type of 3.3 = <class 'str'>\n",
      "Type of r = <class 'str'>\n",
      "Type of true = <class 'str'>\n"
     ]
    }
   ],
   "source": [
    "# Create variables of all 4 data types (int, float, str, bool) and print their types using type().\n",
    "\n",
    "intval = int(input(\"Enter first input: \"))\n",
    "floatval = input(\"Enter second input: \")\n",
    "strval = input(\"Enter third input: \")\n",
    "boolval = input(\"Enter fourth input: \")\n",
    "\n",
    "print(\"Data types for the entered values are as follows: \")\n",
    "print(f'Type of {intval} = {type(intval)}')\n",
    "print(f'Type of {floatval} = {type(floatval)}')\n",
    "print(f'Type of {strval} = {type(strval)}')\n",
    "print(f'Type of {boolval} = {type(boolval)}')"
   ]
  },
  {
   "cell_type": "code",
   "execution_count": 10,
   "id": "ace9534f",
   "metadata": {},
   "outputs": [
    {
     "name": "stdout",
     "output_type": "stream",
     "text": [
      "Hello Komal, welcome to Python world!\n"
     ]
    }
   ],
   "source": [
    "# Take a user’s name and greet them\n",
    "\n",
    "name = input(\"Enter your name: \")\n",
    "\n",
    "print(f'Hello {name}, welcome to Python world!')"
   ]
  },
  {
   "cell_type": "code",
   "execution_count": 11,
   "id": "14fe29ae",
   "metadata": {},
   "outputs": [
    {
     "name": "stdout",
     "output_type": "stream",
     "text": [
      "Hey Komal, you're 20 years old - ready to learn Python!\n"
     ]
    }
   ],
   "source": [
    "# 💪 Day 1 Challenge\n",
    "# Program: Greeting Bot\n",
    "# Write a Python program that:\n",
    "# Asks the user for their name and age.\n",
    "# Prints:\n",
    "# \"Hey Komal, you’re 21 years old — ready to learn Python!\"\n",
    "\n",
    "name = input(\"Enter your name: \")\n",
    "age = int(input(\"Enter your age: \"))\n",
    "\n",
    "print(f'Hey {name}, you\\'re {age} years old - ready to learn Python!')"
   ]
  }
 ],
 "metadata": {
  "kernelspec": {
   "display_name": "Python 3",
   "language": "python",
   "name": "python3"
  },
  "language_info": {
   "codemirror_mode": {
    "name": "ipython",
    "version": 3
   },
   "file_extension": ".py",
   "mimetype": "text/x-python",
   "name": "python",
   "nbconvert_exporter": "python",
   "pygments_lexer": "ipython3",
   "version": "3.13.2"
  }
 },
 "nbformat": 4,
 "nbformat_minor": 5
}

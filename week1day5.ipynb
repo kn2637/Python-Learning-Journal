{
 "cells": [
  {
   "cell_type": "code",
   "execution_count": 56,
   "id": "05453936",
   "metadata": {},
   "outputs": [
    {
     "name": "stdout",
     "output_type": "stream",
     "text": [
      "{'name': 'Komal', 'age': 10, 'course': 'Mathematics'}\n",
      "<class 'dict'>\n",
      "10\n",
      "Mathematics\n",
      "10\n",
      "{'name': 'Komal', 'course': 'Mathematics'}\n",
      "{'name': 'Komal'}\n",
      "{}\n"
     ]
    }
   ],
   "source": [
    "# Dictionaries and Sets\n",
    "\n",
    "student = {\n",
    "    'name': 'Komal',\n",
    "    'age': 10,\n",
    "    'course': 'Mathematics'\n",
    "}\n",
    "\n",
    "print(student)\n",
    "print(type(student))\n",
    "print(student['age'])\n",
    "print(student.get('course'))\n",
    "\n",
    "popped = student.pop('age')\n",
    "print(popped)\n",
    "print(student)\n",
    "\n",
    "del student['course']\n",
    "print(student)\n",
    "\n",
    "student.clear()\n",
    "print(student)\n"
   ]
  },
  {
   "cell_type": "code",
   "execution_count": 57,
   "id": "91d4f724",
   "metadata": {},
   "outputs": [
    {
     "name": "stdout",
     "output_type": "stream",
     "text": [
      "name : Komal\n",
      "age : 19\n",
      "course : Python\n",
      "Or\n",
      "name -> Komal\n",
      "age -> 19\n",
      "course -> Python\n"
     ]
    }
   ],
   "source": [
    "# 🔁 Loop Through a Dictionary\n",
    "\n",
    "student = {\n",
    "    'name': 'Komal',\n",
    "    'age': 19,\n",
    "    'course': 'Python'\n",
    "}\n",
    "\n",
    "for key in student:\n",
    "    print(key, \":\", student[key])\n",
    "\n",
    "print(\"Or\")\n",
    "    \n",
    "for key, value in student.items():\n",
    "    print(f'{key} -> {value}')\n"
   ]
  },
  {
   "cell_type": "code",
   "execution_count": 58,
   "id": "eb45be79",
   "metadata": {},
   "outputs": [
    {
     "name": "stdout",
     "output_type": "stream",
     "text": [
      "4\n",
      "dict_keys(['name', 'age', 'course', 'DOJ'])\n",
      "dict_values(['Komal', 20, 'Python', '11th Apr, 2025'])\n",
      "dict_items([('name', 'Komal'), ('age', 20), ('course', 'Python'), ('DOJ', '11th Apr, 2025')])\n"
     ]
    }
   ],
   "source": [
    "# 🧰 Dictionary Functions\n",
    "\n",
    "employee = {\n",
    "    'name': 'Komal',\n",
    "    'age': 20,\n",
    "    'course': 'Python',\n",
    "    'DOJ': '11th Apr, 2025'\n",
    "}\n",
    "\n",
    "print(len(employee))\n",
    "print(employee.keys())\n",
    "print(employee.values())\n",
    "print(employee.items())\n"
   ]
  },
  {
   "cell_type": "code",
   "execution_count": 59,
   "id": "8ef43c7c",
   "metadata": {},
   "outputs": [
    {
     "name": "stdout",
     "output_type": "stream",
     "text": [
      "Mathematics\n",
      "('001', {'name': 'Komal', 'age': 20, 'course': 'Python'})\n",
      "('002', {'name': 'Preeti', 'age': 19, 'course': 'Mathematics'})\n",
      "('003', {'name': 'Random', 'age': 99, 'course': 'Philosophy'})\n"
     ]
    }
   ],
   "source": [
    "# 💡 Nested Dictionary Example\n",
    "\n",
    "employees = {\n",
    "    '001': {'name': 'Komal', 'age': 20, 'course': 'Python'},\n",
    "    '002': {'name': 'Preeti', 'age': 19, 'course': 'Mathematics'},\n",
    "    '003': {'name': 'Random', 'age': 99, 'course': 'Philosophy'},\n",
    "}\n",
    "\n",
    "print(employees['002']['course'])\n",
    "\n",
    "for employee in employees.items():\n",
    "    print(employee)\n"
   ]
  },
  {
   "cell_type": "code",
   "execution_count": 60,
   "id": "65f9f86b",
   "metadata": {},
   "outputs": [
    {
     "name": "stdout",
     "output_type": "stream",
     "text": [
      "{1, 2, 3, 4, 5}\n",
      "<class 'set'>\n",
      "{1, 2, 3, 4, 5, 6}\n",
      "{1, 2, 3, 4, 6}\n",
      "{1, 2, 3, 6}\n",
      "a = {1, 2, 3} and b = {3, 4, 5}\n",
      "a U b = {1, 2, 3, 4, 5} and a intersection b = {3}\n"
     ]
    }
   ],
   "source": [
    "# Sets\n",
    "\n",
    "numbers = {1, 3, 3, 5, 4, 2, 2, 1, 4, 5}\n",
    "\n",
    "print(numbers)\n",
    "print(type(numbers))\n",
    "\n",
    "numbers.add(6)\n",
    "print(numbers)\n",
    "\n",
    "numbers.remove(5)\n",
    "print(numbers)\n",
    "\n",
    "numbers.discard(4)\n",
    "print(numbers)\n",
    "\n",
    "a = {1, 2, 3}\n",
    "b = {3, 4, 5}\n",
    "\n",
    "print(f'a = {a} and b = {b}')\n",
    "print(f'a U b = {a | b} and a intersection b = {a & b}')\n"
   ]
  },
  {
   "cell_type": "code",
   "execution_count": 61,
   "id": "fa5ff1be",
   "metadata": {},
   "outputs": [
    {
     "name": "stdout",
     "output_type": "stream",
     "text": [
      "stud1 -> 98\n",
      "stud2 -> 93\n",
      "stud3 -> 56\n",
      "stud4 -> 100\n",
      "stud5 -> 99\n",
      "Marks: [98, 93, 56, 100, 99]\n",
      "Highest marks: 100\n"
     ]
    }
   ],
   "source": [
    "# 1. 📚 Create a dictionary of 5 students and their marks. Print the topper’s name.\n",
    "\n",
    "students = {\n",
    "    '1': {'name': 'stud1', 'marks': 98},\n",
    "    '2': {'name': 'stud2', 'marks': 93},\n",
    "    '3': {'name': 'stud3', 'marks': 56},\n",
    "    '4': {'name': 'stud4', 'marks': 100},\n",
    "    '5': {'name': 'stud5', 'marks': 99},\n",
    "}\n",
    "\n",
    "for student, info in students.items():\n",
    "    print(f'{info['name']} -> {info['marks']}')\n",
    "\n",
    "marks = [y['marks'] for x, y in students.items()]\n",
    "print(f'Marks: {marks}')\n",
    "\n",
    "print(f'Highest marks: {max(marks)}')\n",
    "\n"
   ]
  },
  {
   "cell_type": "code",
   "execution_count": 62,
   "id": "c729b3ef",
   "metadata": {},
   "outputs": [
    {
     "name": "stdout",
     "output_type": "stream",
     "text": [
      "String: opposites\n",
      "{'o': 2, 'p': 2, 's': 2, 'i': 1, 't': 1, 'e': 1}\n"
     ]
    }
   ],
   "source": [
    "# 2. 🔍 Write a program to count the frequency of each character in a string.\n",
    "\n",
    "# str1 = input(\"Enter a string: \")\n",
    "\n",
    "str_set = {}\n",
    "str1 = 'opposites'\n",
    "\n",
    "for i in str1:\n",
    "    count = 0\n",
    "    for letter in str1:     # checking for occurrence\n",
    "        if i == letter:\n",
    "            count += 1\n",
    "    if i not in str_set:    # ensure distinct elements in the dictionary\n",
    "        str_set[i] = count\n",
    "\n",
    "print(f'String: {str1}')\n",
    "print(str_set)"
   ]
  },
  {
   "cell_type": "code",
   "execution_count": 63,
   "id": "696891a3",
   "metadata": {},
   "outputs": [
    {
     "name": "stdout",
     "output_type": "stream",
     "text": [
      "The two dictionaries are {'d1': 'val1', 'd2': 'val2', 'd3': 'val3', 'd4': 'val4'} and {'d3': 'val3', 'd4': 'val4'}.\n",
      "Here's the merged dictionary {'d1': 'val1', 'd2': 'val2', 'd3': 'val3', 'd4': 'val4'}.\n",
      "Or\n",
      "Alternatively, we can use the update function: {'d1': 'val1', 'd2': 'val2', 'd3': 'val3', 'd4': 'val4'}\n"
     ]
    }
   ],
   "source": [
    "# 3. 🧮 Merge two dictionaries into one.\n",
    "\n",
    "dict1 = {\n",
    "    'd1': 'val1',\n",
    "    'd2': 'val2'\n",
    "}\n",
    "\n",
    "dict2 = {\n",
    "    'd3': 'val3',\n",
    "    'd4': 'val4'\n",
    "}\n",
    "\n",
    "for key, value in dict2.items():\n",
    "    dict1[key] = value\n",
    "\n",
    "print(f'The two dictionaries are {dict1} and {dict2}.')\n",
    "print(f'Here\\'s the merged dictionary {dict1}.' )\n",
    "\n",
    "print(\"Or\")\n",
    "\n",
    "dict1.update(dict2)\n",
    "print(f'Alternatively, we can use the update function: {dict1}')\n"
   ]
  },
  {
   "cell_type": "code",
   "execution_count": 68,
   "id": "2e706770",
   "metadata": {},
   "outputs": [
    {
     "name": "stdout",
     "output_type": "stream",
     "text": [
      "Exists!\n"
     ]
    }
   ],
   "source": [
    "# 4. 💡 Check if a key exists in a dictionary.\n",
    "\n",
    "student = {\n",
    "    'name': 'Komal',\n",
    "    'age': 20,\n",
    "    'course': 'Python'\n",
    "}\n",
    "\n",
    "key_to_search = input(\"Enter the key to search: \")\n",
    "flag = 0\n",
    "\n",
    "for key, value in student.items():\n",
    "    if key == key_to_search:\n",
    "        flag = 1\n",
    "\n",
    "if flag == 1:\n",
    "    print(\"Exists!\")\n",
    "else:\n",
    "    print(\"Doesn't exist!\")\n"
   ]
  },
  {
   "cell_type": "code",
   "execution_count": 70,
   "id": "eb20494a",
   "metadata": {},
   "outputs": [
    {
     "name": "stdout",
     "output_type": "stream",
     "text": [
      "a = {1, 2, 3}, b = {3, 4, 5}\n",
      "a U b = {1, 2, 3, 4, 5}\n",
      "a intersection b = {3}\n",
      "a - b = {1, 2}\n"
     ]
    }
   ],
   "source": [
    "# 5. 🎨 Create two sets and perform union, intersection, and difference.\n",
    "\n",
    "a, b = {1, 2, 3}, {3, 4, 5}\n",
    "\n",
    "print(f'a = {a}, b = {b}')\n",
    "print(f'a U b = {a | b}')\n",
    "print(f'a intersection b = {a & b}')\n",
    "print(f'a - b = {a - b}')\n"
   ]
  },
  {
   "cell_type": "code",
   "execution_count": 73,
   "id": "da8999f1",
   "metadata": {},
   "outputs": [
    {
     "name": "stdout",
     "output_type": "stream",
     "text": [
      "a = [3, 4, 1, 2, 5, 3, 2, 6, 7, 4, 3, 8, 4, 8, 4]\n",
      "As a set, the duplicates are automatically removed = {1, 2, 3, 4, 5, 6, 7, 8}\n"
     ]
    }
   ],
   "source": [
    "# 6. 🧩 Convert a list into a set to remove duplicates.\n",
    "\n",
    "a = [3, 4, 1, 2, 5, 3, 2, 6, 7, 4, 3, 8, 4, 8, 4]\n",
    "print(f'a = {a}')\n",
    "\n",
    "b = set()\n",
    "b.update(a)\n",
    "print(f'As a set, the duplicates are automatically removed = {b}')\n"
   ]
  },
  {
   "cell_type": "code",
   "execution_count": 75,
   "id": "238ddfa5",
   "metadata": {},
   "outputs": [
    {
     "name": "stdout",
     "output_type": "stream",
     "text": [
      "As lists, a = [1, 2, 3, 4] and b = [5, 6, 4, 1].\n",
      "Common elements between a and b are {1, 4}.\n"
     ]
    }
   ],
   "source": [
    "# 7. 🔁 Find common elements between two lists using sets.\n",
    "\n",
    "a, b = [1, 2, 3, 4], [5, 6, 4, 1]\n",
    "print(f'As lists, a = {a} and b = {b}.')\n",
    "\n",
    "a_set = set()\n",
    "b_set = set()\n",
    "\n",
    "a_set.update(a)\n",
    "b_set.update(b)\n",
    "\n",
    "print(f'Common elements between a and b are {a_set & b_set}.')\n"
   ]
  },
  {
   "cell_type": "code",
   "execution_count": 78,
   "id": "4a0c0baf",
   "metadata": {},
   "outputs": [
    {
     "name": "stdout",
     "output_type": "stream",
     "text": [
      "user1 is 29 and lives in Bareli.\n",
      "user2 is 23 and lives in Sahibabad.\n",
      "user3 is 25 and lives in Sambalpur.\n"
     ]
    }
   ],
   "source": [
    "# 8. 🧠 Create a nested dictionary representing 3 users with their name, age, and city.\n",
    "\n",
    "users = {\n",
    "    '1': {'name': 'user1', 'age': 29, 'city': 'Bareli'},\n",
    "    '2': {'name': 'user2', 'age': 23, 'city': 'Sahibabad'},\n",
    "    '3': {'name': 'user3', 'age': 25, 'city': 'Sambalpur'}\n",
    "}\n",
    "\n",
    "for key, value in users.items():\n",
    "    print(f'{value['name']} is {value['age']} and lives in {value['city']}.')\n"
   ]
  },
  {
   "cell_type": "code",
   "execution_count": 83,
   "id": "3737727e",
   "metadata": {},
   "outputs": [
    {
     "name": "stdout",
     "output_type": "stream",
     "text": [
      "The String is: I love Python because Python is easy\n",
      "['I', 'love', 'Python', 'because', 'Python', 'is', 'easy']\n",
      "{'I': 1, 'love': 1, 'Python': 2, 'because': 1, 'is': 1, 'easy': 1}\n"
     ]
    }
   ],
   "source": [
    "# 🎯 Mini Project: Word Frequency Counter\n",
    "# Take a paragraph as input and count how many times each word appears.\n",
    "\n",
    "# Use .split() to break the string\n",
    "# Use a dictionary to store word counts\n",
    "\n",
    "sentence = \"I love Python because Python is easy\"\n",
    "words = sentence.split()\n",
    "\n",
    "print(f'The String is: {sentence}')\n",
    "print(words)\n",
    "\n",
    "sentence_dict = {}\n",
    "\n",
    "for word in words:\n",
    "    count = 0\n",
    "    for i in words:\n",
    "        if i == word:\n",
    "            count += 1\n",
    "    sentence_dict[word] = count\n",
    "\n",
    "print(sentence_dict)\n"
   ]
  }
 ],
 "metadata": {
  "kernelspec": {
   "display_name": "Python 3",
   "language": "python",
   "name": "python3"
  },
  "language_info": {
   "codemirror_mode": {
    "name": "ipython",
    "version": 3
   },
   "file_extension": ".py",
   "mimetype": "text/x-python",
   "name": "python",
   "nbconvert_exporter": "python",
   "pygments_lexer": "ipython3",
   "version": "3.13.2"
  }
 },
 "nbformat": 4,
 "nbformat_minor": 5
}

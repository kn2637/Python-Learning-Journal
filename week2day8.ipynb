{
 "cells": [
  {
   "cell_type": "code",
   "execution_count": null,
   "id": "a6ad7560",
   "metadata": {},
   "outputs": [],
   "source": [
    "# \"w\" → write mode (overwrites existing file)\n",
    "\n",
    "with open(\"notes.txt\", \"w\") as file:\n",
    "    file.write(\"Hello, This is Day 8!\\n\")\n",
    "    file.write(\"Learning file handling is fun\")\n"
   ]
  },
  {
   "cell_type": "code",
   "execution_count": null,
   "id": "8f444cb6",
   "metadata": {},
   "outputs": [
    {
     "name": "stdout",
     "output_type": "stream",
     "text": [
      "Hello, This is Day 8!\n",
      "Learning file handling is fun\n"
     ]
    }
   ],
   "source": [
    "# \"r\" → read mode\n",
    "\n",
    "with open(\"notes.txt\", 'r') as file:\n",
    "    content = file.read()\n",
    "    print(content)\n"
   ]
  },
  {
   "cell_type": "code",
   "execution_count": 4,
   "id": "eff6a892",
   "metadata": {},
   "outputs": [],
   "source": [
    "# \"a\" → Appending data \n",
    "\n",
    "with open(\"notes.txt\", \"a\") as file:\n",
    "    file.write(\"\\nAppending a new line to the existing data!\")\n"
   ]
  },
  {
   "cell_type": "code",
   "execution_count": 5,
   "id": "29368953",
   "metadata": {},
   "outputs": [
    {
     "name": "stdout",
     "output_type": "stream",
     "text": [
      "Day 8\n",
      "What I learned: \n",
      "- File handling basics \n",
      "- Modes in Python \n",
      "Feeling Score (0-10): ___\n"
     ]
    }
   ],
   "source": [
    "# Mini Task (save to GitHub too)\n",
    "# Create a file called day8_journal.txt using Python:\n",
    "# Content format:\n",
    "# Day 8\n",
    "# What I learned:\n",
    "# - File handling basics\n",
    "# - Modes in Python\n",
    "# Feeling Score (0-10): ___\n",
    "\n",
    "with open('day8_journal.txt', 'w') as file:\n",
    "    file.write(\"Day 8\")\n",
    "\n",
    "with open('day8_journal.txt', 'a') as file:\n",
    "    file.write(\"\\nWhat I learned: \\n- File handling basics \\n- Modes in Python \\nFeeling Score (0-10): ___\")\n",
    "\n",
    "with open(\"day8_journal.txt\", 'r') as file:\n",
    "    journal = file.read()\n",
    "    print(journal)\n"
   ]
  }
 ],
 "metadata": {
  "kernelspec": {
   "display_name": "Python 3",
   "language": "python",
   "name": "python3"
  },
  "language_info": {
   "codemirror_mode": {
    "name": "ipython",
    "version": 3
   },
   "file_extension": ".py",
   "mimetype": "text/x-python",
   "name": "python",
   "nbconvert_exporter": "python",
   "pygments_lexer": "ipython3",
   "version": "3.13.2"
  }
 },
 "nbformat": 4,
 "nbformat_minor": 5
}

{
 "cells": [
  {
   "cell_type": "code",
   "execution_count": 1,
   "id": "c2d58f58",
   "metadata": {},
   "outputs": [
    {
     "name": "stdout",
     "output_type": "stream",
     "text": [
      "10 + 3 = 13\n",
      "10 - 3 = 7\n",
      "10 * 3 = 30\n",
      "10 / 3 = 3.3333333333333335\n",
      "10 // 3 = 3\n",
      "10 % 3 = 1\n",
      "10 ** 3 = 1000\n"
     ]
    }
   ],
   "source": [
    "# Make a calculator that inputs 2 numbers and prints out all the arithmetic operations between them.\n",
    "\n",
    "a = int(input(\"Enter first number: \"))\n",
    "b = int(input(\"Enter second number: \"))\n",
    "\n",
    "print(f'{a} + {b} = {a + b}')\n",
    "print(f'{a} - {b} = {a - b}')\n",
    "print(f'{a} * {b} = {a * b}')\n",
    "print(f'{a} / {b} = {a / b}')\n",
    "print(f'{a} // {b} = {a // b}')\n",
    "print(f'{a} % {b} = {a % b}')\n",
    "print(f'{a} ** {b} = {a ** b}')"
   ]
  },
  {
   "cell_type": "code",
   "execution_count": 2,
   "id": "72378f93",
   "metadata": {},
   "outputs": [
    {
     "name": "stdout",
     "output_type": "stream",
     "text": [
      "5 == 10 = False\n",
      "5 != 10 = True\n",
      "5 < 10 = True\n",
      "5 > 10 = False\n",
      "5 <= 10 = True\n",
      "5 >= 10 = False\n"
     ]
    }
   ],
   "source": [
    "# Make a calculator to showcase the comparison operators.\n",
    "\n",
    "a = int(input(\"Enter first number: \"))\n",
    "b = int(input(\"Enter second number: \"))\n",
    "\n",
    "print(f'{a} == {b} = {a == b}')\n",
    "print(f'{a} != {b} = {a != b}')\n",
    "print(f'{a} < {b} = {a < b}')\n",
    "print(f'{a} > {b} = {a > b}')\n",
    "print(f'{a} <= {b} = {a <= b}')\n",
    "print(f'{a} >= {b} = {a >= b}')"
   ]
  },
  {
   "cell_type": "code",
   "execution_count": 4,
   "id": "6644074a",
   "metadata": {},
   "outputs": [
    {
     "name": "stdout",
     "output_type": "stream",
     "text": [
      "True\n",
      "True\n",
      "False\n"
     ]
    }
   ],
   "source": [
    "a = 10\n",
    "b = 5\n",
    "\n",
    "print(a > 0 and b > 0)  # True  (both true)\n",
    "print(a > 0 or b < 0)   # True  (one is true)\n",
    "print(not(a > b))       # False (negates the condition)\n"
   ]
  },
  {
   "cell_type": "code",
   "execution_count": 10,
   "id": "33cbfc2b",
   "metadata": {},
   "outputs": [
    {
     "name": "stdout",
     "output_type": "stream",
     "text": [
      "Adult\n"
     ]
    }
   ],
   "source": [
    "# Age Category Checker\n",
    "    # Ask the user’s age:\n",
    "    # If <13 → “Child”\n",
    "    # If 13–19 → “Teenager”\n",
    "    # If 20–59 → “Adult”\n",
    "    # Else → “Senior Citizen”\n",
    "\n",
    "age = int(input(\"How old are you?\"))\n",
    "\n",
    "if (age < 13): print(\"Child\")\n",
    "elif (age > 13 and age < 19): print(\"Teenager\")\n",
    "elif (age > 20 and age < 59): print(\"Adult\")\n",
    "else: print(\"Senior Citizen\")\n"
   ]
  },
  {
   "cell_type": "code",
   "execution_count": 12,
   "id": "b0b920bd",
   "metadata": {},
   "outputs": [
    {
     "name": "stdout",
     "output_type": "stream",
     "text": [
      "Even\n"
     ]
    }
   ],
   "source": [
    "# Even or Odd\n",
    "\n",
    "num = int(input(\"Enter a num: \"))\n",
    "\n",
    "if (num % 2 == 0): print(\"Even\")\n",
    "else: print(\"Odd\")"
   ]
  },
  {
   "cell_type": "code",
   "execution_count": 16,
   "id": "e1a57c6a",
   "metadata": {},
   "outputs": [
    {
     "name": "stdout",
     "output_type": "stream",
     "text": [
      "Out of the three numbers, 44, 2 & 12, the largest number is: \n",
      "44\n"
     ]
    }
   ],
   "source": [
    "# Largest among three numbers\n",
    "\n",
    "a = int(input(\"Enter first number: \"))\n",
    "b = int(input(\"Enter second number: \"))\n",
    "c = int(input(\"Enter third number: \"))\n",
    "\n",
    "print(f\"Out of the three numbers, {a}, {b} & {c}, the largest number is: \")\n",
    "\n",
    "if (a > b and a > c): print(a)\n",
    "elif (b > a and b > c): print(b)\n",
    "else: print(c)"
   ]
  },
  {
   "cell_type": "code",
   "execution_count": 22,
   "id": "01bb9d89",
   "metadata": {},
   "outputs": [
    {
     "name": "stdout",
     "output_type": "stream",
     "text": [
      "You're Good Friends!\n"
     ]
    }
   ],
   "source": [
    "# Simple Love Compatibility (just for fun 😉)\n",
    "# Ask for two names,\n",
    "# Calculate the number of letters in their names,\n",
    "# If the sum of the number of letters is even, then print \"Perfect match!\", else \"Good friends!\"\n",
    "\n",
    "name1 = input(\"Enter your name: \")\n",
    "name2 = input(\"Enter their name: \")\n",
    "\n",
    "count1 = len(name1)\n",
    "count2 = len(name2)\n",
    "\n",
    "if ((count1 + count2) % 2 == 0): print(\"Wow! It's a Perfect Match!\")\n",
    "else: print(\"You're Good Friends!\")"
   ]
  },
  {
   "cell_type": "code",
   "execution_count": 25,
   "id": "4407acf2",
   "metadata": {},
   "outputs": [
    {
     "name": "stdout",
     "output_type": "stream",
     "text": [
      "Grade: \n",
      "A\n"
     ]
    }
   ],
   "source": [
    "# Write a Python program that takes marks (0–100) as input and prints your grade as:\n",
    "# A: 90+\n",
    "# B: 75–89\n",
    "# C: 60–74\n",
    "# D: below 60\n",
    "\n",
    "marks = float(input(\"Enter your marks: \"))\n",
    "\n",
    "print(\"Grade: \")\n",
    "\n",
    "if (marks >= 90): print(\"A\")\n",
    "elif (marks in range(75, 89)): print(\"B\")\n",
    "elif (marks in range(60, 74)): print(\"C\")\n",
    "else: print(\"D\")\n"
   ]
  }
 ],
 "metadata": {
  "kernelspec": {
   "display_name": "Python 3",
   "language": "python",
   "name": "python3"
  },
  "language_info": {
   "codemirror_mode": {
    "name": "ipython",
    "version": 3
   },
   "file_extension": ".py",
   "mimetype": "text/x-python",
   "name": "python",
   "nbconvert_exporter": "python",
   "pygments_lexer": "ipython3",
   "version": "3.13.2"
  }
 },
 "nbformat": 4,
 "nbformat_minor": 5
}

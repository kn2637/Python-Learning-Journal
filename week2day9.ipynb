{
 "cells": [
  {
   "cell_type": "code",
   "execution_count": 1,
   "id": "d46e6ab0",
   "metadata": {},
   "outputs": [
    {
     "name": "stdout",
     "output_type": "stream",
     "text": [
      "['Name', 'Age', 'City']\n",
      "['Komal', '22', 'Mumbai']\n",
      "['Amar', '23', 'Delhi']\n"
     ]
    }
   ],
   "source": [
    "# Reading a CSV\n",
    "\n",
    "import csv\n",
    "\n",
    "data = [\n",
    "    [\"Name\", \"Age\", \"City\"],\n",
    "    [\"Komal\", 22, \"Mumbai\"],\n",
    "    [\"Amar\", 23, \"Delhi\"]\n",
    "]\n",
    "\n",
    "with open(\"students.csv\", 'w', newline='') as file:\n",
    "    writer = csv.writer(file)\n",
    "    writer.writerows(data)\n",
    "\n",
    "with open(\"students.csv\", \"r\") as file:\n",
    "    reader = csv.reader(file)\n",
    "    for row in reader:\n",
    "        print(row)\n"
   ]
  },
  {
   "cell_type": "code",
   "execution_count": 2,
   "id": "f2f9419f",
   "metadata": {},
   "outputs": [],
   "source": [
    "# Append new row\n",
    "\n",
    "with open(\"students.csv\", \"a\") as file:\n",
    "    writer = csv.writer(file)\n",
    "    writer.writerow([\"Rudra\", 30, \"London\"])\n"
   ]
  },
  {
   "cell_type": "code",
   "execution_count": 4,
   "id": "c7ef59e2",
   "metadata": {},
   "outputs": [],
   "source": [
    "# Writing JSON\n",
    "\n",
    "import json\n",
    "\n",
    "data = {\n",
    "    'name': 'Komal',\n",
    "    'skills': ['Python', 'Data Analysis'],\n",
    "    'score': 95\n",
    "}\n",
    "\n",
    "with open('profile.json', 'w') as file:\n",
    "    json.dump(data, file, indent = 4)\n"
   ]
  },
  {
   "cell_type": "code",
   "execution_count": 7,
   "id": "fffcabba",
   "metadata": {},
   "outputs": [
    {
     "name": "stdout",
     "output_type": "stream",
     "text": [
      "{'name': 'Komal', 'skills': ['Python', 'Data Analysis'], 'score': 95}\n",
      "Komal\n"
     ]
    }
   ],
   "source": [
    "# Reading JSON\n",
    "\n",
    "with open(\"profile.json\", 'r') as file:\n",
    "    result = json.load(file)\n",
    "    print(result)\n",
    "    print(result[\"name\"])\n"
   ]
  },
  {
   "cell_type": "code",
   "execution_count": 8,
   "id": "010d1b0c",
   "metadata": {},
   "outputs": [
    {
     "name": "stdout",
     "output_type": "stream",
     "text": [
      "{'name': 'Komal', 'skills': ['Python', 'Data Analysis'], 'score': 95}\n",
      "{'name': 'Komal', 'skills': ['Python', 'Data Analysis'], 'score': 97}\n"
     ]
    }
   ],
   "source": [
    "# Updating JSON\n",
    "\n",
    "import json\n",
    "\n",
    "with open(\"profile.json\", 'r') as file:\n",
    "    data = json.load(file)\n",
    "    print(data)\n",
    "\n",
    "data['score'] = 97\n",
    "\n",
    "with open(\"profile.json\", 'w') as file:\n",
    "    json.dump(data, file, indent = 4)\n",
    "\n",
    "with open('profile.json', 'r') as file:\n",
    "    data = json.load(file)\n",
    "    print(data)\n"
   ]
  },
  {
   "cell_type": "code",
   "execution_count": 17,
   "id": "fe97c45b",
   "metadata": {},
   "outputs": [
    {
     "name": "stdout",
     "output_type": "stream",
     "text": [
      "[{'Name': 'Komal', 'Email': 'abc@gmail.com', 'Age': 21}, {'Name': 'Amar', 'Email': 'alice@gmail.com', 'Age': 26}, {'Name': 'Vihaan', 'Email': 'chocoboi@gmail.com', 'Age': 29}]\n",
      "Here's the data from csv file:\n",
      "['Name', 'Email', 'Age']\n",
      "['Komal', 'abc@gmail.com', '21']\n",
      "['Amar', 'alice@gmail.com', '26']\n",
      "['Vihaan', 'chocoboi@gmail.com', '29']\n",
      "Here's the data from json file:\n",
      "[{'Name': 'Komal', 'Email': 'abc@gmail.com', 'Age': 21}, {'Name': 'Amar', 'Email': 'alice@gmail.com', 'Age': 26}, {'Name': 'Vihaan', 'Email': 'chocoboi@gmail.com', 'Age': 29}]\n",
      "Data saved successfully in both CSV & JSON!\n"
     ]
    }
   ],
   "source": [
    "# Mini Project\n",
    "# 📌 Create a simple Data Storage System\n",
    "# Goal: Save 3 user records into CSV & JSON\n",
    "# User format:\n",
    "# Name, Email, Age\n",
    "\n",
    "# Tasks:\n",
    "#  ✅ Take user input 3 times\n",
    "#  ✅ Save all data to users.csv\n",
    "#  ✅ Convert same data → dictionary → save to users.json\n",
    "#  ✅ Print both results\n",
    "# I’ll provide a structure; you complete the input part 👇\n",
    "\n",
    "# 📍 Your Task: Fill the loop and run it\n",
    "# ✅ After completion:\n",
    "#  Push these files to GitHub:\n",
    "# students.csv\n",
    "# profile.json\n",
    "# users.csv\n",
    "# users.json\n",
    "\n",
    "import csv\n",
    "import json\n",
    "\n",
    "users = []\n",
    "\n",
    "# TODO: Write a loop that asks for name, email, age 3 times\n",
    "# Append dictionary into users list\n",
    "\n",
    "for i in range(3):\n",
    "    name = input(f\"Enter the name of user{i + 1}: \")\n",
    "    email = input(f\"Enter the email of user{i + 1}: \")\n",
    "    age = int(input(f\"Enter the age of user({i + 1}): \"))\n",
    "    \n",
    "    user_dict = {\n",
    "        'Name': name,\n",
    "        'Email': email,\n",
    "        'Age': age\n",
    "    }\n",
    "    \n",
    "    users.append(user_dict)\n",
    "\n",
    "print(users)\n",
    "\n",
    "# Save to CSV\n",
    "with open(\"users.csv\", \"w\", newline=\"\") as file:\n",
    "    writer = csv.DictWriter(file, fieldnames=[\"Name\", \"Email\", \"Age\"])\n",
    "    writer.writeheader()\n",
    "    writer.writerows(users)\n",
    "\n",
    "# Save to JSON\n",
    "with open(\"users.json\", \"w\") as file:\n",
    "    json.dump(users, file, indent=4)\n",
    "\n",
    "# Print csv file data\n",
    "print('Here\\'s the data from csv file:')\n",
    "with open(\"users.csv\", 'r') as file:\n",
    "    reader = csv.reader(file)\n",
    "    for row in reader:\n",
    "        print(row)\n",
    "\n",
    "# Print json file data\n",
    "print('Here\\'s the data from json file:')\n",
    "with open(\"users.json\", 'r') as file:\n",
    "    result = json.load(file)\n",
    "    print(result)\n",
    "\n",
    "print(\"Data saved successfully in both CSV & JSON!\")\n"
   ]
  }
 ],
 "metadata": {
  "kernelspec": {
   "display_name": "Python 3",
   "language": "python",
   "name": "python3"
  },
  "language_info": {
   "codemirror_mode": {
    "name": "ipython",
    "version": 3
   },
   "file_extension": ".py",
   "mimetype": "text/x-python",
   "name": "python",
   "nbconvert_exporter": "python",
   "pygments_lexer": "ipython3",
   "version": "3.13.2"
  }
 },
 "nbformat": 4,
 "nbformat_minor": 5
}

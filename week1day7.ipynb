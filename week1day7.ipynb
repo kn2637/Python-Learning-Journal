{
 "cells": [
  {
   "cell_type": "code",
   "execution_count": 1,
   "id": "b9403b58",
   "metadata": {},
   "outputs": [
    {
     "name": "stdout",
     "output_type": "stream",
     "text": [
      "Hi, Komal!\n"
     ]
    }
   ],
   "source": [
    "# 1. Take a user’s name and greet them nicely.\n",
    "\n",
    "name = input(\"What's your name? \")\n",
    "\n",
    "print(f'Hi, {name}!')"
   ]
  },
  {
   "cell_type": "code",
   "execution_count": 9,
   "id": "a3b3b5da",
   "metadata": {},
   "outputs": [
    {
     "name": "stdout",
     "output_type": "stream",
     "text": [
      "Entered string is 'komal'.\n",
      "It has 2 vowels and 3 consonants.\n"
     ]
    }
   ],
   "source": [
    "# 2. Count vowels and consonants in a string.\n",
    "\n",
    "str1 = input(\"Enter a string: \")\n",
    "\n",
    "vowels = 'aeiouAEIOU'\n",
    "consonants = 'bcdfghjklmnpqrstvwxyzBCDFGHJKLMNPQRSTVWXYZ'\n",
    "count_vowels, count_consonants = 0, 0\n",
    "\n",
    "for i in str1:\n",
    "    if i in vowels:\n",
    "        count_vowels += 1\n",
    "    elif i in consonants:\n",
    "        count_consonants += 1\n",
    "\n",
    "print(f'Entered string is \\'{str1}\\'.')\n",
    "print(f'It has {count_vowels} vowels and {count_consonants} consonants.')\n"
   ]
  },
  {
   "cell_type": "code",
   "execution_count": 14,
   "id": "aee02b6d",
   "metadata": {},
   "outputs": [
    {
     "name": "stdout",
     "output_type": "stream",
     "text": [
      "'level' is  a palindrome!\n"
     ]
    }
   ],
   "source": [
    "# 3. Check whether a word is a palindrome (e.g., level, madam).\n",
    "\n",
    "word = input(\"Enter a word: \")\n",
    "print(f'\\'{word}\\' is ', end =' ')\n",
    "\n",
    "reverse_word = word[::-1]\n",
    "if word == reverse_word:\n",
    "    print('a palindrome!')\n",
    "else:\n",
    "    print('not a palindrome!')\n"
   ]
  },
  {
   "cell_type": "code",
   "execution_count": 26,
   "id": "2cb29389",
   "metadata": {},
   "outputs": [
    {
     "name": "stdout",
     "output_type": "stream",
     "text": [
      "['This', 'is', 'a', 'sentence.']\n",
      "The capitalized sentence is: This Is A Sentence.\n"
     ]
    }
   ],
   "source": [
    "# 4. Take a sentence and:\n",
    "# Count words\n",
    "# Convert first letter of each word to uppercase\n",
    "\n",
    "sentence = input(\"Enter a sentence: \")\n",
    "\n",
    "words = sentence.split()\n",
    "print(words)\n",
    "\n",
    "for i in range(len(words)):\n",
    "    words[i] = words[i].title()\n",
    "\n",
    "sentence2 = ' '.join(words)\n",
    "print(f'The capitalized sentence is: {sentence2}')\n"
   ]
  },
  {
   "cell_type": "code",
   "execution_count": 29,
   "id": "93535030",
   "metadata": {},
   "outputs": [
    {
     "name": "stdout",
     "output_type": "stream",
     "text": [
      "The entered string is: He!!o@# Wo$rld\n",
      "Simplied string: Heo World\n"
     ]
    }
   ],
   "source": [
    "# 5. Remove all special characters from a string.\n",
    "# Example:\n",
    "# \t\"He!!o@# Wo$rld\" → \"Heo World\"\n",
    "\n",
    "str1 = input(\"Enter a string: \")\n",
    "print(f'The entered string is: {str1}')\n",
    "\n",
    "accepted_chars = 'aeiouAEIOU bcdfghjklmnpqrstvwxyzBCDFGHJKLMNPQRSTVWXYZ'\n",
    "\n",
    "str2 = ''\n",
    "\n",
    "for i in str1:\n",
    "    if i in accepted_chars:\n",
    "        str2 += i\n",
    "\n",
    "print(f'Simplied string: {str2}')\n"
   ]
  },
  {
   "cell_type": "code",
   "execution_count": 34,
   "id": "40841642",
   "metadata": {},
   "outputs": [
    {
     "name": "stdout",
     "output_type": "stream",
     "text": [
      "l occurs 2 times.\n",
      "e occurs 2 times.\n",
      "v occurs 1 times.\n"
     ]
    }
   ],
   "source": [
    "# 6. Find the frequency of each character (like a dictionary exercise).\n",
    "\n",
    "str1 = input(\"Enter a string: \")\n",
    "checked = set()\n",
    "\n",
    "for i in str1:\n",
    "    if i not in checked:\n",
    "        count = 0\n",
    "        for j in str1:\n",
    "            if i == j:\n",
    "                count += 1\n",
    "        print(f'{i} occurs {count} times.')\n",
    "        checked.add(i)\n"
   ]
  },
  {
   "cell_type": "code",
   "execution_count": 37,
   "id": "672ac299",
   "metadata": {},
   "outputs": [
    {
     "name": "stdout",
     "output_type": "stream",
     "text": [
      "The entered string is: Komal\n",
      "The hidden string is: K*m*l\n"
     ]
    }
   ],
   "source": [
    "# 7. Create a program that hides vowels with *\n",
    "#  Example: \"Komal\" → \"K*m*l\"\n",
    " \n",
    "str1 = input(\"Enter a string: \")\n",
    "print(f'The entered string is: {str1}')\n",
    "\n",
    "vowels = 'aeiouAEIOU'\n",
    "str2 = ''\n",
    "\n",
    "for i in str1:\n",
    "    if i in vowels:\n",
    "        str2 += '*'\n",
    "    else:\n",
    "        str2 += i\n",
    "\n",
    "print(f'The hidden string is: {str2}')\n"
   ]
  },
  {
   "cell_type": "code",
   "execution_count": 2,
   "id": "f9ff1698",
   "metadata": {},
   "outputs": [
    {
     "name": "stdout",
     "output_type": "stream",
     "text": [
      "The entered sentence is: Th1$ i$ 4 $entenc3.\n",
      "This sentence has 9 letters, 3 digits, 3 spaces and 4 symbols.\n"
     ]
    }
   ],
   "source": [
    "# 8. Ask user for a sentence and show:\n",
    "# Number of letters\n",
    "# Number of digits\n",
    "# Number of spaces\n",
    "# Number of symbols\n",
    "\n",
    "sentence = input(\"Enter a sentence: \")\n",
    "\n",
    "letters = 'aeioubcdfghjklmnpqrstvwxyzAEIOUBCDFGHJKLMNPQRSTVWXYZ'\n",
    "digits = '0123456789'\n",
    "\n",
    "count_letters, count_digits, count_spaces, count_symbols = 0, 0, 0, 0\n",
    "\n",
    "for i in sentence:\n",
    "    if i in letters:\n",
    "        count_letters += 1\n",
    "    elif i in digits:\n",
    "        count_digits += 1\n",
    "    elif i == ' ':\n",
    "        count_spaces += 1\n",
    "    else:\n",
    "        count_symbols +=1\n",
    "\n",
    "print(f'The entered sentence is: {sentence}')\n",
    "print(f'This sentence has {count_letters} letters, {count_digits} digits, {count_spaces} spaces and {count_symbols} symbols.')\n"
   ]
  },
  {
   "cell_type": "code",
   "execution_count": 18,
   "id": "5e8289a4",
   "metadata": {},
   "outputs": [
    {
     "name": "stdout",
     "output_type": "stream",
     "text": [
      "Hello! This is a username generator.\n",
      "Username1: komalkomalkomal\n",
      "Username2: nag426@\n",
      "Username3: komal@nag\n",
      "Username4: .426@\n",
      "Username5: nag426.\n"
     ]
    }
   ],
   "source": [
    "# 🌟 Mini Project: Username Generator\n",
    "# 📍 Input: Full Name\n",
    "# 📍 Output Suggestions:\n",
    "    # Combination of name + random numbers\n",
    "    # Lowercase, no spaces\n",
    "\n",
    "# Example output:\n",
    "    # Enter your name: Komal Nag\n",
    "    # Generated usernames:\n",
    "    # komalnag22\n",
    "    # komal.nag12\n",
    "    # nagkomal99\n",
    "\n",
    "# Use:\n",
    "    # .lower()\n",
    "    # .replace()\n",
    "    # random.randint()\n",
    "\n",
    "import random\n",
    "\n",
    "print(\"Hello! This is a username generator.\")\n",
    "\n",
    "name = input(\"Enter your name: \")\n",
    "\n",
    "lowername = name.lower().split() # Brokedown your name into a list\n",
    "\n",
    "number = random.randint(0, 1000) # Generate a random number\n",
    "\n",
    "lowername += [str(number), '.', '@']\n",
    "\n",
    "for i in range(5):\n",
    "    username = ''.join(random.choice(lowername) for i in range(3))\n",
    "    print(f'Username{i + 1}: {username}')\n"
   ]
  },
  {
   "cell_type": "code",
   "execution_count": null,
   "id": "6cbca594",
   "metadata": {},
   "outputs": [],
   "source": []
  }
 ],
 "metadata": {
  "kernelspec": {
   "display_name": "Python 3",
   "language": "python",
   "name": "python3"
  },
  "language_info": {
   "codemirror_mode": {
    "name": "ipython",
    "version": 3
   },
   "file_extension": ".py",
   "mimetype": "text/x-python",
   "name": "python",
   "nbconvert_exporter": "python",
   "pygments_lexer": "ipython3",
   "version": "3.13.2"
  }
 },
 "nbformat": 4,
 "nbformat_minor": 5
}

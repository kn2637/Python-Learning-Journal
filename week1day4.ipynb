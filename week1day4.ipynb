{
 "cells": [
  {
   "cell_type": "code",
   "execution_count": 4,
   "id": "53828ff8",
   "metadata": {},
   "outputs": [
    {
     "name": "stdout",
     "output_type": "stream",
     "text": [
      "['grapes', 'mango', 'cherry', 'orange']\n",
      "mango\n",
      "['cherry', 'orange']\n"
     ]
    }
   ],
   "source": [
    "fruits = ['apple', 'grapes', 'mango', 'cherry', 'orange']\n",
    "\n",
    "fruits.remove(\"apple\")  # by value\n",
    "print(fruits)\n",
    "ab = fruits.pop(1)           # by index\n",
    "print(ab)\n",
    "del fruits[0]           # delete element\n",
    "print(fruits)\n",
    "fruits.clear()          # clear entire list\n"
   ]
  },
  {
   "cell_type": "code",
   "execution_count": 5,
   "id": "7347923c",
   "metadata": {},
   "outputs": [
    {
     "name": "stdout",
     "output_type": "stream",
     "text": [
      "[1, 4, 9, 16, 25]\n"
     ]
    }
   ],
   "source": [
    "squares = [x**2 for x in range(1, 6)]\n",
    "print(squares)\n"
   ]
  },
  {
   "cell_type": "code",
   "execution_count": 7,
   "id": "8cec0c17",
   "metadata": {},
   "outputs": [
    {
     "name": "stdout",
     "output_type": "stream",
     "text": [
      "Komal 23 Student\n",
      "Komal\n",
      "23\n"
     ]
    }
   ],
   "source": [
    "# 🧩 Tuple Packing & Unpacking\n",
    "person = (\"Komal\", 23, \"Student\")\n",
    "name, age, role = person\n",
    "print(name, age, role)\n",
    "print(name)\n",
    "print(age)\n"
   ]
  },
  {
   "cell_type": "code",
   "execution_count": 8,
   "id": "db6b8cb2",
   "metadata": {},
   "outputs": [
    {
     "name": "stdout",
     "output_type": "stream",
     "text": [
      "Original list: ['apple', 'banana', 'cherry', 'grapes', 'orange']\n",
      "New list: ['apple', 'banana', 'cherry', 'grapes', 'mango']\n"
     ]
    }
   ],
   "source": [
    "# 1. 🍎 Create a list of 5 fruits, replace one, and print all.\n",
    "\n",
    "fruits = ['apple', 'banana', 'cherry', 'grapes', 'orange']\n",
    "print(f'Original list: {fruits}')\n",
    "\n",
    "fruits[-1] = 'mango'\n",
    "print(f'New list: {fruits}')\n"
   ]
  },
  {
   "cell_type": "code",
   "execution_count": 13,
   "id": "8b05035e",
   "metadata": {},
   "outputs": [
    {
     "name": "stdout",
     "output_type": "stream",
     "text": [
      "[1, 2, 3, 4, 5, 6, 7, 8, 9, 10, 11, 12, 13, 14, 15]\n",
      "55\n",
      "5\n"
     ]
    }
   ],
   "source": [
    "# 2. 🔢 Find the sum and average of 10 numbers stored in a list.\n",
    "\n",
    "numlist = [x for x in range(1, 16)]\n",
    "print(numlist)\n",
    "\n",
    "numsum = sum(numlist[x] for x in range(10))\n",
    "print(numsum)\n",
    "\n",
    "avgnum = numsum / 10\n",
    "print(int(avgnum))"
   ]
  },
  {
   "cell_type": "code",
   "execution_count": 17,
   "id": "d75eda3b",
   "metadata": {},
   "outputs": [
    {
     "name": "stdout",
     "output_type": "stream",
     "text": [
      "List: [12, 5, 57, 71, 94, 20, 65, 33, 65, 69]\n",
      "Largest number is 94 and Smallest number is 5.\n"
     ]
    }
   ],
   "source": [
    "# 🎯 Write a program to find the largest and smallest number in a list.\n",
    "\n",
    "import random\n",
    "\n",
    "numlist = [random.randint(1, 100) for i in range(10)]\n",
    "print(f'List: {numlist}')\n",
    "\n",
    "print(f'Largest number is {max(numlist)} and Smallest number is {min(numlist)}.')"
   ]
  },
  {
   "cell_type": "code",
   "execution_count": 18,
   "id": "fb6cd7af",
   "metadata": {},
   "outputs": [
    {
     "name": "stdout",
     "output_type": "stream",
     "text": [
      "List: [70, 29, 84, 65, 47, 59, 1, 65, 88, 92]\n",
      "Reversed List: [92, 88, 65, 1, 59, 47, 65, 84, 29, 70]\n"
     ]
    }
   ],
   "source": [
    "# 💫 Reverse a list without using reverse() method.\n",
    "\n",
    "import random\n",
    "\n",
    "numlist = [random.randint(1, 100) for i in range(10)]\n",
    "print(f'List: {numlist}')\n",
    "\n",
    "reverse_numlist = numlist[::-1]\n",
    "print(f'Reversed List: {reverse_numlist}')\n"
   ]
  },
  {
   "cell_type": "code",
   "execution_count": 21,
   "id": "f97e0fc3",
   "metadata": {},
   "outputs": [
    {
     "name": "stdout",
     "output_type": "stream",
     "text": [
      "[4, 16, 36, 64, 100]\n"
     ]
    }
   ],
   "source": [
    "# 5. ⭐ Print squares of even numbers using list comprehension.\n",
    "\n",
    "even_squares = [x**2 for x in range(1, 11) if (x % 2 == 0)]\n",
    "print(even_squares)"
   ]
  },
  {
   "cell_type": "code",
   "execution_count": 23,
   "id": "ec42ff58",
   "metadata": {},
   "outputs": [
    {
     "name": "stdout",
     "output_type": "stream",
     "text": [
      "red\n",
      "blue\n",
      "green\n",
      "cyan\n",
      "white\n"
     ]
    }
   ],
   "source": [
    "# 6. 📦 Create a tuple of colors, and display each color using a loop.\n",
    "\n",
    "colors = ('red', 'blue', 'green', 'cyan', 'white')\n",
    "\n",
    "for color in colors:\n",
    "    print(color)"
   ]
  },
  {
   "cell_type": "code",
   "execution_count": 27,
   "id": "7170071a",
   "metadata": {},
   "outputs": [
    {
     "name": "stdout",
     "output_type": "stream",
     "text": [
      "Original tuple: (4, 5, 2, 77, 1)\n",
      "List: [4, 5, 2, 77, 1]\n",
      "Modified list: [4, 5, 100, 77, 1]\n",
      "Modified tuple: (4, 5, 100, 77, 1)\n"
     ]
    }
   ],
   "source": [
    "# 7. 🧩 Write a program that converts a tuple to a list, modifies it, and converts back.\n",
    "\n",
    "tuple1 = (4, 5, 2, 77, 1)\n",
    "print(f'Original tuple: {tuple1}')\n",
    "\n",
    "list1 = list(tuple1)\n",
    "print(f'List: {list1}')\n",
    "\n",
    "list1[2] = 100\n",
    "print(f'Modified list: {list1}')\n",
    "\n",
    "tuple2 = tuple(list1)\n",
    "print(f'Modified tuple: {tuple2}')\n"
   ]
  },
  {
   "cell_type": "code",
   "execution_count": 29,
   "id": "fc0ad7a1",
   "metadata": {},
   "outputs": [
    {
     "name": "stdout",
     "output_type": "stream",
     "text": [
      "Tuple 1: (1, 2, 3)\n",
      "Tuple 2: (9, 8, 7)\n",
      "Joined tuples: (1, 2, 3, 9, 8, 7)\n"
     ]
    }
   ],
   "source": [
    "# 8. 🔄 Join two tuples into one.\n",
    "\n",
    "tuple1 = (1, 2, 3)\n",
    "tuple2 = (9, 8, 7)\n",
    "\n",
    "print(f'Tuple 1: {tuple1}')\n",
    "print(f'Tuple 2: {tuple2}')\n",
    "\n",
    "sum_tuple = tuple1 + tuple2\n",
    "print(f'Joined tuples: {sum_tuple}')\n",
    "\n"
   ]
  },
  {
   "cell_type": "code",
   "execution_count": null,
   "id": "49ded923",
   "metadata": {},
   "outputs": [
    {
     "name": "stdout",
     "output_type": "stream",
     "text": [
      "Shopping List Manager\n",
      "1. Add an item in the Shopping List\n",
      "2. Remove an item from the Shopping List\n",
      "3. View the Shopping List\n",
      "4. Exit\n",
      "Shopping List Manager\n",
      "1. Add an item in the Shopping List\n",
      "2. Remove an item from the Shopping List\n",
      "3. View the Shopping List\n",
      "4. Exit\n",
      "Shopping List Manager\n",
      "1. Add an item in the Shopping List\n",
      "2. Remove an item from the Shopping List\n",
      "3. View the Shopping List\n",
      "4. Exit\n",
      "Shopping List Manager\n",
      "1. Add an item in the Shopping List\n",
      "2. Remove an item from the Shopping List\n",
      "3. View the Shopping List\n",
      "4. Exit\n",
      "Here's the Shopping List: \n",
      "Milk\n",
      "Coffee\n",
      "Bread\n",
      "Shopping List Manager\n",
      "1. Add an item in the Shopping List\n",
      "2. Remove an item from the Shopping List\n",
      "3. View the Shopping List\n",
      "4. Exit\n",
      "Shopping List Manager\n",
      "1. Add an item in the Shopping List\n",
      "2. Remove an item from the Shopping List\n",
      "3. View the Shopping List\n",
      "4. Exit\n",
      "Here's the Shopping List: \n",
      "Milk\n",
      "Coffee\n",
      "Shopping List Manager\n",
      "1. Add an item in the Shopping List\n",
      "2. Remove an item from the Shopping List\n",
      "3. View the Shopping List\n",
      "4. Exit\n",
      "Here's the Shopping List: \n",
      "Milk\n",
      "Coffee\n",
      "Shopping List Manager\n",
      "1. Add an item in the Shopping List\n",
      "2. Remove an item from the Shopping List\n",
      "3. View the Shopping List\n",
      "4. Exit\n"
     ]
    }
   ],
   "source": [
    "# 🎯 Mini Project: Shopping List Manager\n",
    "# Goal: Build a small program where:\n",
    "# User can add, remove, or view items in a shopping list.\n",
    "# Use lists for storing items.\n",
    "# Continue until user chooses to exit.\n",
    "\n",
    "shoplist = []\n",
    "\n",
    "def add_item(item):\n",
    "    shoplist.append(item)\n",
    "\n",
    "def remove_item(item):\n",
    "    shoplist.remove(item)\n",
    "    \n",
    "def view_list():\n",
    "    print(\"Here's the Shopping List: \")\n",
    "    for item in shoplist:\n",
    "        print(item)\n",
    "\n",
    "flag = 1\n",
    "\n",
    "print(\"Shopping List Manager\")\n",
    "print(\"1. Add an item in the Shopping List\")\n",
    "print(\"2. Remove an item from the Shopping List\")\n",
    "print(\"3. View the Shopping List\")\n",
    "print(\"4. Exit\")\n",
    "\n",
    "while (flag == 1):\n",
    "    choice = int(input(\"Enter your choice: \"))\n",
    "    \n",
    "    match choice:\n",
    "        case 1:\n",
    "            item = input(\"Enter the item name: \")\n",
    "            add_item(item)\n",
    "        case 2: \n",
    "            item = input(\"Which item do you want to remove from the list?: \")\n",
    "            remove_item(item)\n",
    "        case 3:\n",
    "            view_list()\n",
    "        case 4:\n",
    "            flag = 0\n",
    "        case _:\n",
    "            print(\"Invalid Choice!\")\n",
    "\n",
    "        "
   ]
  }
 ],
 "metadata": {
  "kernelspec": {
   "display_name": "Python 3",
   "language": "python",
   "name": "python3"
  },
  "language_info": {
   "codemirror_mode": {
    "name": "ipython",
    "version": 3
   },
   "file_extension": ".py",
   "mimetype": "text/x-python",
   "name": "python",
   "nbconvert_exporter": "python",
   "pygments_lexer": "ipython3",
   "version": "3.13.2"
  }
 },
 "nbformat": 4,
 "nbformat_minor": 5
}

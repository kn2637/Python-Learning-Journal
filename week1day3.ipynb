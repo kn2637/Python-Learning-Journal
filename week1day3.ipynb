{
 "cells": [
  {
   "cell_type": "code",
   "execution_count": 2,
   "id": "6af14a9e",
   "metadata": {},
   "outputs": [
    {
     "name": "stdout",
     "output_type": "stream",
     "text": [
      "1\n",
      "2\n",
      "3\n",
      "4\n",
      "5\n",
      "6\n",
      "7\n",
      "8\n",
      "9\n",
      "10\n"
     ]
    }
   ],
   "source": [
    "# 🔢 Print numbers 1 to 10 using a while loop.\n",
    "\n",
    "i = 1\n",
    "while (i <= 10):\n",
    "    print(i)\n",
    "    i +=1"
   ]
  },
  {
   "cell_type": "code",
   "execution_count": 5,
   "id": "58a1816b",
   "metadata": {},
   "outputs": [
    {
     "name": "stdout",
     "output_type": "stream",
     "text": [
      "10\n",
      "9\n",
      "8\n",
      "7\n",
      "6\n",
      "5\n",
      "4\n",
      "3\n",
      "2\n",
      "1\n"
     ]
    }
   ],
   "source": [
    "# 📉 Print numbers 10 to 1 using a for loop.\n",
    "\n",
    "for i in range(10, 0, -1):\n",
    "    print(i)"
   ]
  },
  {
   "cell_type": "code",
   "execution_count": 6,
   "id": "74294e13",
   "metadata": {},
   "outputs": [
    {
     "name": "stdout",
     "output_type": "stream",
     "text": [
      "The sum of first 100 natural numbers is 5050.\n"
     ]
    }
   ],
   "source": [
    "# ➕ Calculate the sum of first 100 natural numbers.\n",
    "\n",
    "count = 0\n",
    "for i in range(1, 101):\n",
    "    count += i\n",
    "\n",
    "print(f'The sum of first 100 natural numbers is {count}.')"
   ]
  },
  {
   "cell_type": "code",
   "execution_count": 7,
   "id": "97906da7",
   "metadata": {},
   "outputs": [
    {
     "name": "stdout",
     "output_type": "stream",
     "text": [
      "Here's the multiplication table of 4:\n",
      "4 x 1 = 4\n",
      "4 x 2 = 8\n",
      "4 x 3 = 12\n",
      "4 x 4 = 16\n",
      "4 x 5 = 20\n",
      "4 x 6 = 24\n",
      "4 x 7 = 28\n",
      "4 x 8 = 32\n",
      "4 x 9 = 36\n",
      "4 x 10 = 40\n"
     ]
    }
   ],
   "source": [
    "# 🧮 Print multiplication table of a given number.\n",
    "\n",
    "num = int(input(\"Enter a number: \"))\n",
    "\n",
    "print(f'Here\\'s the multiplication table of {num}:')\n",
    "\n",
    "for i in range(1, 11):\n",
    "    print(f'{num} x {i} = {num * i}')"
   ]
  },
  {
   "cell_type": "code",
   "execution_count": 10,
   "id": "640e5d27",
   "metadata": {},
   "outputs": [
    {
     "name": "stdout",
     "output_type": "stream",
     "text": [
      "The word 'komal' has 2 vowels.\n"
     ]
    }
   ],
   "source": [
    "# 🔠 Count vowels in a string using a loop.\n",
    "\n",
    "str1 = input(\"Enter a string: \")\n",
    "\n",
    "count = 0\n",
    "for i in str1:\n",
    "    if i in ('aeiou'):\n",
    "        count += 1\n",
    "\n",
    "print(f'The word \\'{str1}\\' has {count} vowels.')"
   ]
  },
  {
   "cell_type": "code",
   "execution_count": 16,
   "id": "1738bbcd",
   "metadata": {},
   "outputs": [
    {
     "name": "stdout",
     "output_type": "stream",
     "text": [
      "\n",
      "*\n",
      "**\n",
      "***\n",
      "****\n",
      "*****\n",
      "\n",
      "*\n",
      "**\n",
      "***\n",
      "****\n",
      "*****\n"
     ]
    }
   ],
   "source": [
    "# ⭐ Print this pattern:\n",
    "# *\n",
    "# **\n",
    "# ***\n",
    "# ****\n",
    "# *****\n",
    "\n",
    "limit = int(input(\"Enter a limit: \"))\n",
    "\n",
    "for i in range(limit + 1):\n",
    "    for j in range(0, i):\n",
    "        print(\"*\", end = \"\")\n",
    "    print()\n",
    "    \n",
    "# Alternatively\n",
    "for i in range(limit + 1):\n",
    "    print(\"*\" * i)"
   ]
  },
  {
   "cell_type": "code",
   "execution_count": 17,
   "id": "8e19b750",
   "metadata": {},
   "outputs": [
    {
     "name": "stdout",
     "output_type": "stream",
     "text": [
      "1\n",
      "3\n",
      "5\n",
      "7\n",
      "9\n"
     ]
    }
   ],
   "source": [
    "# 🔄 Use continue to skip even numbers between 1 to 10.\n",
    "\n",
    "for i in range(11):\n",
    "    if (i % 2 == 0):\n",
    "        continue\n",
    "    print(i)"
   ]
  },
  {
   "cell_type": "code",
   "execution_count": 19,
   "id": "d8558c45",
   "metadata": {},
   "outputs": [
    {
     "name": "stdout",
     "output_type": "stream",
     "text": [
      "1\n",
      "2\n",
      "3\n",
      "4\n",
      "5\n",
      "6\n"
     ]
    }
   ],
   "source": [
    "# ❌ Use break to stop the loop when number reaches 7.\n",
    "\n",
    "for i in range(1, 11):\n",
    "    if i == 7:\n",
    "        break\n",
    "    print(i)"
   ]
  },
  {
   "cell_type": "code",
   "execution_count": 23,
   "id": "09fccb99",
   "metadata": {},
   "outputs": [
    {
     "name": "stdout",
     "output_type": "stream",
     "text": [
      "Haha! Nope. It's not 7.\n",
      "Haha! Nope. It's not 8.\n",
      "Whaaat! Are you a hacker!? You guessed it right, it's 9!\n"
     ]
    }
   ],
   "source": [
    "# 💡 Create a “guess the number” game:\n",
    "# Random number between 1–10\n",
    "# Ask user to guess until correct\n",
    "\n",
    "import random\n",
    "\n",
    "secret_num = random.randint(1, 10)\n",
    "\n",
    "guess = int(input(\"I'm thinking of a number between 1 and 10. What's your guess? \"))\n",
    "\n",
    "flag = 0\n",
    "while (flag == 0):\n",
    "    if (guess == secret_num):\n",
    "        flag = 1\n",
    "        print(f\"Whaaat! Are you a hacker!? You guessed it right, it's {secret_num}!\")\n",
    "    else:\n",
    "        print(f\"Haha! Nope. It's not {guess}.\")\n",
    "        guess = int(input(\"Guess again :)\"))"
   ]
  },
  {
   "cell_type": "code",
   "execution_count": 25,
   "id": "6a5f2161",
   "metadata": {},
   "outputs": [
    {
     "name": "stdout",
     "output_type": "stream",
     "text": [
      "The entered list is [66, 5, 8, 89, 10].\n",
      "You've entered 3 even numbers and 2 odd numbers.\n"
     ]
    }
   ],
   "source": [
    "# 🪴 Mini Project Idea\n",
    "# Title: Even–Odd Counter\n",
    "# Task: Ask the user for 5 numbers and count how many are even or odd.\n",
    "\n",
    "numlist = []\n",
    "for i in range(5):\n",
    "    num = int(input(f\"Enter number {i + 1}: \"))\n",
    "    numlist.append(num)\n",
    "\n",
    "print(f'The entered list is {numlist}.')\n",
    "\n",
    "evens = 0\n",
    "odds = 0\n",
    "\n",
    "for i in numlist:\n",
    "    if (i % 2 == 0):\n",
    "        evens += 1\n",
    "    else:\n",
    "        odds += 1\n",
    "\n",
    "print(f'You\\'ve entered {evens} even numbers and {odds} odd numbers.')\n"
   ]
  }
 ],
 "metadata": {
  "kernelspec": {
   "display_name": "Python 3",
   "language": "python",
   "name": "python3"
  },
  "language_info": {
   "codemirror_mode": {
    "name": "ipython",
    "version": 3
   },
   "file_extension": ".py",
   "mimetype": "text/x-python",
   "name": "python",
   "nbconvert_exporter": "python",
   "pygments_lexer": "ipython3",
   "version": "3.13.2"
  }
 },
 "nbformat": 4,
 "nbformat_minor": 5
}

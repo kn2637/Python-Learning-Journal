{
 "cells": [
  {
   "cell_type": "code",
   "execution_count": 1,
   "id": "18233ecf",
   "metadata": {},
   "outputs": [
    {
     "name": "stdout",
     "output_type": "stream",
     "text": [
      "Welcome, User!\n",
      "Welcome, Komal!\n"
     ]
    }
   ],
   "source": [
    "#  Functions - Default Parameters\n",
    "\n",
    "def welcome(name=\"User\"):\n",
    "    print(f\"Welcome, {name}!\")\n",
    "\n",
    "welcome()         # uses default value\n",
    "welcome(\"Komal\")  # custom value\n"
   ]
  },
  {
   "cell_type": "code",
   "execution_count": 2,
   "id": "92a8e402",
   "metadata": {},
   "outputs": [
    {
     "name": "stdout",
     "output_type": "stream",
     "text": [
      "10\n",
      "{'name': 'Komal', 'age': 22, 'city': 'Delhi'}\n"
     ]
    }
   ],
   "source": [
    "# Variable-Length Arguments\n",
    "\n",
    "def total(*numbers):\n",
    "    return sum(numbers)\n",
    "\n",
    "print(total(1, 2, 3, 4))  # 10\n",
    "\n",
    "def show_details(**info):\n",
    "    print(info)\n",
    "\n",
    "show_details(name=\"Komal\", age=22, city=\"Delhi\")\n"
   ]
  },
  {
   "cell_type": "code",
   "execution_count": 4,
   "id": "52005adb",
   "metadata": {},
   "outputs": [
    {
     "name": "stdout",
     "output_type": "stream",
     "text": [
      "[1, 4, 9, 16]\n"
     ]
    }
   ],
   "source": [
    "# Lambda (Anonymous) functions\n",
    "\n",
    "numbers = [1, 2, 3, 4]\n",
    "squares = list(map(lambda x: x**2, numbers))\n",
    "print(squares)\n"
   ]
  },
  {
   "cell_type": "code",
   "execution_count": 7,
   "id": "9ca268be",
   "metadata": {},
   "outputs": [
    {
     "name": "stdout",
     "output_type": "stream",
     "text": [
      "7! = 5040\n"
     ]
    }
   ],
   "source": [
    "# 1. 🧮 Create a function to find factorial of a number.\n",
    "\n",
    "def factorial(num):\n",
    "    fact = 1\n",
    "    for i in range(1, num + 1):\n",
    "        fact *= i\n",
    "    return fact\n",
    "\n",
    "num = int(input(\"Enter a number: \"))\n",
    "print(f'{num}! = {factorial(num)}')\n"
   ]
  },
  {
   "cell_type": "code",
   "execution_count": 10,
   "id": "eb418577",
   "metadata": {},
   "outputs": [
    {
     "name": "stdout",
     "output_type": "stream",
     "text": [
      "Numbers: [4, 5, 92, 21, 4, 23, 7, 87, 9, 56, 10, 82, 91, 34]\n",
      "The largest is 92.\n"
     ]
    }
   ],
   "source": [
    "# 2. 📏 Write a function to find the largest number in a list.\n",
    "\n",
    "def largest(numbers):\n",
    "    return max(numbers)\n",
    "\n",
    "numbers = [4, 5, 92, 21, 4, 23, 7, 87, 9, 56, 10, 82, 91, 34]\n",
    "print(f'Numbers: {numbers}')\n",
    "print(f'The largest is {largest(numbers)}.')"
   ]
  },
  {
   "cell_type": "code",
   "execution_count": 15,
   "id": "ce2313b0",
   "metadata": {},
   "outputs": [
    {
     "name": "stdout",
     "output_type": "stream",
     "text": [
      "The string \"This is a string.\" has 4 vowels.\n"
     ]
    }
   ],
   "source": [
    "# 3. 💬 Write a function that counts vowels in a string.\n",
    "\n",
    "def count_vowels(str1):\n",
    "    count = 0\n",
    "    for i in str1:\n",
    "        if i in 'aeiou':\n",
    "            count += 1\n",
    "    return count\n",
    "\n",
    "str1 = input(\"Enter a string: \")\n",
    "print(f\"The string \\\"{str1}\\\" has {count_vowels(str1)} vowels.\")\n"
   ]
  },
  {
   "cell_type": "code",
   "execution_count": 18,
   "id": "d23e211f",
   "metadata": {},
   "outputs": [
    {
     "name": "stdout",
     "output_type": "stream",
     "text": [
      "You rolled a 6!\n",
      "You rolled a 1!\n",
      "You rolled a 1!\n",
      "You rolled a 1!\n",
      "You rolled a 4!\n",
      "You rolled a 3!\n",
      "You rolled a 1!\n"
     ]
    }
   ],
   "source": [
    "# 4. 🎲 Create a dice rolling simulation using random.randint(1,6).\n",
    "\n",
    "import random\n",
    "\n",
    "def roll():\n",
    "    num = random.randint(1, 6)\n",
    "    return num\n",
    "\n",
    "flag = 'y'\n",
    "while (flag == 'y' or flag == 'Y'):\n",
    "    flag = input(\"Want to roll a dice? (Y/N)\")\n",
    "    if flag == 'y' or flag == 'Y':\n",
    "        print(f'You rolled a {roll()}!')\n"
   ]
  },
  {
   "cell_type": "code",
   "execution_count": 21,
   "id": "044fdf89",
   "metadata": {},
   "outputs": [
    {
     "name": "stdout",
     "output_type": "stream",
     "text": [
      "Today is Sunday, 26 October 2025 and it's 12:00 AM.\n"
     ]
    }
   ],
   "source": [
    "# 5. 🗓️ Print today’s date and day using datetime module.\n",
    "\n",
    "import datetime\n",
    "\n",
    "today = datetime.date.today()\n",
    "print(f'Today is {today.strftime(\"%A, %d %B %Y\")} and it\\'s {today.strftime(\"%I:%M %p\")}.')"
   ]
  },
  {
   "cell_type": "code",
   "execution_count": 31,
   "id": "e5ed8a08",
   "metadata": {},
   "outputs": [
    {
     "name": "stdout",
     "output_type": "stream",
     "text": [
      "The entered string is: Komal Nag\n",
      "Here's the reversed string: gaN lamoK\n"
     ]
    }
   ],
   "source": [
    "# 6. 💡 Write a lambda function to reverse a string.\n",
    "\n",
    "def rev_str(str1):\n",
    "    str1 = str1[::-1]\n",
    "    return str1\n",
    "\n",
    "str1 = input(\"Enter a string: \")\n",
    "print(f'The entered string is: {str1}')\n",
    "\n",
    "reversed_string = lambda x: x[::-1]\n",
    "\n",
    "print(f'Here\\'s the reversed string: {reversed_string(str1)}')\n"
   ]
  },
  {
   "cell_type": "code",
   "execution_count": 38,
   "id": "3d59199c",
   "metadata": {},
   "outputs": [
    {
     "name": "stdout",
     "output_type": "stream",
     "text": [
      "Operations: +, -, x, / \n",
      "Entered numbers: [4, 5, 7]\n"
     ]
    },
    {
     "ename": "TypeError",
     "evalue": "unsupported operand type(s) for +=: 'int' and 'list'",
     "output_type": "error",
     "traceback": [
      "\u001b[31m---------------------------------------------------------------------------\u001b[39m",
      "\u001b[31mTypeError\u001b[39m                                 Traceback (most recent call last)",
      "\u001b[36mCell\u001b[39m\u001b[36m \u001b[39m\u001b[32mIn[38]\u001b[39m\u001b[32m, line 18\u001b[39m\n\u001b[32m     14\u001b[39m     flag = \u001b[38;5;28minput\u001b[39m(\u001b[33m\"\u001b[39m\u001b[33mWant to enter more numbers? (y/n) \u001b[39m\u001b[33m\"\u001b[39m)\n\u001b[32m     16\u001b[39m \u001b[38;5;28mprint\u001b[39m(\u001b[33mf\u001b[39m\u001b[33m'\u001b[39m\u001b[33mEntered numbers: \u001b[39m\u001b[38;5;132;01m{\u001b[39;00mnumlist\u001b[38;5;132;01m}\u001b[39;00m\u001b[33m'\u001b[39m)\n\u001b[32m---> \u001b[39m\u001b[32m18\u001b[39m \u001b[38;5;28mprint\u001b[39m(\u001b[33mf\u001b[39m\u001b[33m'\u001b[39m\u001b[33mSum: \u001b[39m\u001b[38;5;132;01m{\u001b[39;00m\u001b[43mmath_ops\u001b[49m\u001b[43m.\u001b[49m\u001b[43madd\u001b[49m\u001b[43m(\u001b[49m\u001b[43mnumlist\u001b[49m\u001b[43m)\u001b[49m\u001b[38;5;132;01m}\u001b[39;00m\u001b[33m'\u001b[39m)\n",
      "\u001b[36mFile \u001b[39m\u001b[32md:\\BSCStuff\\DS DA AI ML\\code&Repos\\pythonJourney\\math_ops.py:6\u001b[39m, in \u001b[36madd\u001b[39m\u001b[34m(*vars)\u001b[39m\n\u001b[32m      4\u001b[39m total = \u001b[32m0\u001b[39m\n\u001b[32m      5\u001b[39m \u001b[38;5;28;01mfor\u001b[39;00m num \u001b[38;5;129;01min\u001b[39;00m \u001b[38;5;28mvars\u001b[39m:\n\u001b[32m----> \u001b[39m\u001b[32m6\u001b[39m     \u001b[43mtotal\u001b[49m\u001b[43m \u001b[49m\u001b[43m+\u001b[49m\u001b[43m=\u001b[49m\u001b[43m \u001b[49m\u001b[43mnum\u001b[49m\n\u001b[32m      7\u001b[39m \u001b[38;5;28;01mreturn\u001b[39;00m total\n",
      "\u001b[31mTypeError\u001b[39m: unsupported operand type(s) for +=: 'int' and 'list'"
     ]
    }
   ],
   "source": [
    "# 7. 🔢 Create a module named math_ops.py with add, subtract, multiply, divide — and import it in another file.\n",
    "\n",
    "import math_ops\n",
    "\n",
    "flag = 'y'\n",
    "numlist = []\n",
    "\n",
    "print(\"Operations: +, -, x, / \")\n",
    "\n",
    "while (flag == 'y' or flag == 'Y'):\n",
    "    num = int(input(\"Enter a number: \"))\n",
    "    numlist.append(int(num))\n",
    "    \n",
    "    flag = input(\"Want to enter more numbers? (y/n) \")\n",
    "\n",
    "print(f'Entered numbers: {numlist}')\n",
    "\n",
    "print(f'Sum: {math_ops.add(numlist)}')\n",
    "\n"
   ]
  },
  {
   "cell_type": "code",
   "execution_count": 46,
   "id": "c8e886d3",
   "metadata": {},
   "outputs": [
    {
     "name": "stdout",
     "output_type": "stream",
     "text": [
      "Operations: +, -, x, / \n",
      "Entered numbers are 6 & 3.\n",
      "Sum: 9\n",
      "Subtract: 3\n",
      "Product: 0\n",
      "Divide: 2\n"
     ]
    }
   ],
   "source": [
    "# 7. 🔢 Create a module named math_ops.py with add, subtract, multiply, divide — and import it in another file.\n",
    "\n",
    "import math_ops\n",
    "\n",
    "print(\"Operations: +, -, x, / \")\n",
    "a = int(input(\"Enter a: \"))\n",
    "b = int(input(\"Enter b: \"))\n",
    "\n",
    "print(f'Entered numbers are {a} & {b}.')\n",
    "\n",
    "print(f'Sum: {math_ops.add(a, b)}')\n",
    "print(f'Subtract: {math_ops.subtract(a, b)}')\n",
    "print(f'Product: {math_ops.multiply(a, b)}')\n",
    "print(f'Divide: {math_ops.divide(a, b)}')\n"
   ]
  },
  {
   "cell_type": "code",
   "execution_count": 49,
   "id": "b80d23b6",
   "metadata": {},
   "outputs": [
    {
     "name": "stdout",
     "output_type": "stream",
     "text": [
      "7 * 3 = 21\n"
     ]
    }
   ],
   "source": [
    "# 🚀 Mini Project: Simple Calculator (Function Based)\n",
    "# Ask user for two numbers and an operation (+, -, *, /), and perform it using functions.\n",
    "# Example:\n",
    "# Enter first number: 5\n",
    "# Enter second number: 2\n",
    "# Enter operation (+, -, *, /): *\n",
    "# Result = 10\n",
    "\n",
    "a = int(input(\"Enter first number: \"))\n",
    "b = int(input(\"Enter second number: \"))\n",
    "\n",
    "operation = input(\"Enter operation (+, -, *, /): \")\n",
    "\n",
    "match operation:\n",
    "    case '+': print(f'{a} + {b} = {a + b}')\n",
    "    case '-': print(f'{a} - {b} = {a - b}')\n",
    "    case '*': print(f'{a} * {b} = {a * b}')\n",
    "    case '/': print(f'{a} / {b} = {a / b}')\n",
    "    case '_': print(\"Invalid Input!\")\n"
   ]
  }
 ],
 "metadata": {
  "kernelspec": {
   "display_name": "Python 3",
   "language": "python",
   "name": "python3"
  },
  "language_info": {
   "codemirror_mode": {
    "name": "ipython",
    "version": 3
   },
   "file_extension": ".py",
   "mimetype": "text/x-python",
   "name": "python",
   "nbconvert_exporter": "python",
   "pygments_lexer": "ipython3",
   "version": "3.13.2"
  }
 },
 "nbformat": 4,
 "nbformat_minor": 5
}
